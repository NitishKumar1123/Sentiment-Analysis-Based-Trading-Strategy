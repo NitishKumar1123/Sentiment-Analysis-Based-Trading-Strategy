{
 "cells": [
  {
   "cell_type": "code",
   "execution_count": null,
   "metadata": {},
   "outputs": [],
   "source": [
    "# sentiment_analysis.ipynb\n",
    "\n",
    "import pandas as pd\n",
    "from textblob import TextBlob\n",
    "\n",
    "# Load preprocessed data\n",
    "df = pd.read_csv('data/processed/financial_news_clean.csv')\n",
    "\n",
    "# Function to calculate sentiment score\n",
    "def calculate_sentiment(text):\n",
    "    analysis = TextBlob(text)\n",
    "    return analysis.sentiment.polarity\n",
    "\n",
    "# Apply sentiment analysis\n",
    "df['sentiment_score'] = df['description'].apply(calculate_sentiment)\n",
    "\n",
    "# Save results to CSV\n",
    "df.to_csv('data/processed/with_sentiment.csv', index=False)\n",
    "\n",
    "# Display results\n",
    "df[['title', 'sentiment_score']].head()\n"
   ]
  }
 ],
 "metadata": {
  "kernelspec": {
   "display_name": "Python 3",
   "language": "python",
   "name": "python3"
  },
  "language_info": {
   "name": "python",
   "version": "3.11.9"
  }
 },
 "nbformat": 4,
 "nbformat_minor": 2
}
