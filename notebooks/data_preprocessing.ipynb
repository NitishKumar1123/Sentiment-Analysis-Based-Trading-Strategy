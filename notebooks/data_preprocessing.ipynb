{
 "cells": [
  {
   "cell_type": "code",
   "execution_count": null,
   "metadata": {},
   "outputs": [],
   "source": [
    "# data_preprocessing.ipynb\n",
    "\n",
    "import pandas as pd\n",
    "\n",
    "# Load raw data\n",
    "news_df = pd.read_json('data/raw/financial_news.json')\n",
    "\n",
    "# Example preprocessing\n",
    "def preprocess_data(df):\n",
    "    # Convert date to datetime\n",
    "    df['publishedAt'] = pd.to_datetime(df['publishedAt'])\n",
    "    \n",
    "    # Fill missing values or drop rows\n",
    "    df = df.dropna(subset=['title', 'description'])\n",
    "    \n",
    "    # Save cleaned data to CSV\n",
    "    df.to_csv('data/processed/financial_news_clean.csv', index=False)\n",
    "\n",
    "# Preprocess and save data\n",
    "preprocess_data(news_df)\n",
    "\n",
    "# Load and display preprocessed data\n",
    "cleaned_df = pd.read_csv('data/processed/financial_news_clean.csv')\n",
    "cleaned_df.head()\n"
   ]
  }
 ],
 "metadata": {
  "kernelspec": {
   "display_name": "Python 3",
   "language": "python",
   "name": "python3"
  },
  "language_info": {
   "name": "python",
   "version": "3.11.9"
  }
 },
 "nbformat": 4,
 "nbformat_minor": 2
}
