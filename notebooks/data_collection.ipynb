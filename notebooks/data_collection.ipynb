{
 "cells": [
  {
   "cell_type": "code",
   "execution_count": null,
   "metadata": {},
   "outputs": [],
   "source": [
    "# data_collection.ipynb\n",
    "\n",
    "import pandas as pd\n",
    "import requests\n",
    "from datetime import datetime\n",
    "import json\n",
    "\n",
    "# Function to fetch financial news data\n",
    "def fetch_financial_news(api_url, api_key):\n",
    "    response = requests.get(api_url, headers={'Authorization': f'Bearer {api_key}'})\n",
    "    data = response.json()\n",
    "    return data\n",
    "\n",
    "# Fetch data\n",
    "api_url = 'https://api.example.com/news'  # Replace with actual API URL\n",
    "api_key = 'YOUR_API_KEY'  # Replace with your actual API key\n",
    "news_data = fetch_financial_news(api_url, api_key)\n",
    "\n",
    "# Save data to JSON file\n",
    "with open('data/raw/financial_news.json', 'w') as f:\n",
    "    json.dump(news_data, f, indent=4)\n",
    "\n",
    "# Load data from JSON file to DataFrame\n",
    "news_df = pd.read_json('data/raw/financial_news.json')\n",
    "\n",
    "# Display sample data\n",
    "news_df.head()\n"
   ]
  }
 ],
 "metadata": {
  "kernelspec": {
   "display_name": "Python 3",
   "language": "python",
   "name": "python3"
  },
  "language_info": {
   "name": "python",
   "version": "3.11.9"
  }
 },
 "nbformat": 4,
 "nbformat_minor": 2
}
